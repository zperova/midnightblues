{
 "cells": [
  {
   "cell_type": "markdown",
   "metadata": {},
   "source": [
    "#### QUESTION 1\n",
    "##### python can be used like a sort of overkill calculator\n",
    "\n",
    "###### a) for these numbers 3, 56, 6, 3, 44, 5, 6, 7775, 32353, 34534, 345:\n",
    "    # find the largest number\n",
    "    # find the smallest number\n",
    "    # find the sum of all the numbers\n",
    "    # use the statistics module to compute:\n",
    "        # the mean\n",
    "        # the median\n",
    "        # the variance\n",
    "        # and standard deviation"
   ]
  },
  {
   "cell_type": "code",
   "execution_count": null,
   "metadata": {},
   "outputs": [],
   "source": [
    "x = [3, 56, 6, 3, 44, 5, 6, 7775, 32353, 34534, 345]\n",
    "print (x)\n",
    "\n",
    "print (max(x))\n",
    "print (min(x))\n",
    "print (sum(x))\n",
    "\n",
    "import statistics as st\n",
    "print(st.mean(x))\n",
    "st.median(x)\n",
    "st.stdev(x)\n",
    "st.variance(x)"
   ]
  },
  {
   "cell_type": "markdown",
   "metadata": {},
   "source": [
    "\n",
    "\n",
    "###### b) use the math module to do the following:\n",
    "    # print:\n",
    "        # the value of pi rounded down to the nearest whole number\n",
    "        # the value of pi rounded up to nearest whole number\n",
    "        # the square root of pi\n",
    "        # the log of pi\n",
    "        \n",
    "###### c) calculate pi squared divided by pi cubed\n",
    "###### d) generate some random numbers\n",
    "###### e) what is sine(pi/2), sine(pi/4), sine(pi/8)\n",
    "###### f) if the result is in radians, convert it to degrees\n",
    "###### g) cast your result from a float into a string"
   ]
  },
  {
   "cell_type": "code",
   "execution_count": 20,
   "metadata": {},
   "outputs": [],
   "source": [
    "import math \n",
    "pi = math.pi\n",
    "\n",
    "math.floor(pi)\n",
    "math.ceil(pi)\n",
    "math.sqrt(pi)\n",
    "math.log(pi)\n",
    "pow(pi,2)/pow(pi,3)\n",
    "\n",
    "import random\n",
    "for i in range(10):\n",
    "    print(random.randint(10,101))\n",
    "    \n",
    "x1 = math.sin(pi/2)\n",
    "print(x1)\n",
    "x2 = math.sin(pi/4)\n",
    "x2\n",
    "x3 = math.sin(pi/8)\n",
    "x3\n",
    "math.degrees(x1)\n",
    "str(x1)"
   ]
  },
  {
   "cell_type": "markdown",
   "metadata": {},
   "source": [
    "##### QUESTION 2\n",
    "###### a) assign the number 3 to a variable called width, and the number 110 to a variable called height\n",
    "###### b) calculate the area and assign it to a new variable called area\n",
    "###### c) turns out you got the width and height mixed up, see if you can swap them without re-declaring the width and height variables\n",
    "###### d) assign the width and height variables in a single statement"
   ]
  },
  {
   "cell_type": "code",
   "execution_count": 2,
   "metadata": {},
   "outputs": [
    {
     "name": "stdout",
     "output_type": "stream",
     "text": [
      "330\n",
      "110\n"
     ]
    }
   ],
   "source": [
    "width = 3\n",
    "height = 110\n",
    "area = width*height\n",
    "print(area)\n",
    "width, height = height, width\n",
    "print(width)"
   ]
  },
  {
   "cell_type": "markdown",
   "metadata": {},
   "source": [
    "##### Question 3\n",
    "##### - write a simple for loop that counts up to 10 and prints the value\n",
    "##### - use an if statement to print 4 if the value is 4\n",
    "##### - add an else clause to print 'the number is not 4' when it is not 4\n",
    "##### - use an if statement to print if the value is anything other than 4\n",
    "##### - rewrite this using a while loop (HINT: try out using the += operation)"
   ]
  },
  {
   "cell_type": "code",
   "execution_count": 6,
   "metadata": {},
   "outputs": [
    {
     "name": "stdout",
     "output_type": "stream",
     "text": [
      "1\n",
      "2\n",
      "3\n",
      "4\n",
      "5\n",
      "6\n",
      "7\n",
      "8\n",
      "9\n",
      "the number is not 4\n",
      "range(1, 10)\n",
      "1\n",
      "2\n",
      "3\n",
      "4\n",
      "5\n",
      "6\n",
      "7\n",
      "8\n",
      "9\n",
      "10\n"
     ]
    }
   ],
   "source": [
    "a = range (1,10)\n",
    "for count in a:\n",
    "    print(count)\n",
    "\n",
    "if (a == 4):\n",
    "    print ('4')\n",
    "else:\n",
    "    print ('the number is not 4')\n",
    "    \n",
    "\n",
    "# - use an if statement to print if the value is anything other than 4\n",
    "\n",
    "if (a!=4):\n",
    "    print (a)\n",
    "    \n",
    "a = 0\n",
    "while a < 10:\n",
    "    a += 1 # Same as a = a + 1 \n",
    "    print (a)"
   ]
  },
  {
   "cell_type": "markdown",
   "metadata": {},
   "source": [
    "#### Question 4\n",
    "\n",
    "secret_message = 'S1R3E2!!3@4T2R3AT23@@!S2Y3pbO1T3!@@!!4b1E@M134O13C1L3@@Ew41@23!!'\n",
    "\n",
    "###### a) remove all digits and special characters from the secret message\n",
    "###### b) replace all every letter b with an empty space \n",
    "###### c) if you wrote your answer as a loop, try with a list comprehension\n",
    "###### d) reverse the capitalisation\n",
    "###### e) reverse the order of the letters\n",
    "###### f) use built in string methods to do the following"
   ]
  },
  {
   "cell_type": "code",
   "execution_count": 24,
   "metadata": {},
   "outputs": [
    {
     "name": "stdout",
     "output_type": "stream",
     "text": [
      "Welcome to Pystarters\n"
     ]
    }
   ],
   "source": [
    "# Question 4\n",
    "secret_message = 'S1R3E2!!3@4T2R3AT23@@!S2Y3pbO1T3!@@!!4b1E@M134O13C1L3@@Ew41@23!!'\n",
    "\n",
    "# - remove all digits and special characters from the secret message\n",
    "# new_string =[]\n",
    "# for char in secret_message:\n",
    "#     if not char.isdigit():\n",
    "#         new_string.append(char)\n",
    "new_string= [char for char in secret_message if char.isalpha()]\n",
    "SM2 = ''.join(new_string)\n",
    "\n",
    "# - replace all every letter b with an empty space \n",
    "SM3 = SM2.replace('b', ' ')\n",
    "\n",
    "# - if you wrote your answer as a loop, try with a list comprehension\n",
    "\n",
    "# - reverse the capitalisation\n",
    "SM4 = SM3.swapcase()\n",
    "\n",
    "# - reverse the order of the letters\n",
    "SM5 = SM4[::-1]\n",
    "print (SM5)\n",
    "\n",
    "# - use built in string methods to do the following"
   ]
  },
  {
   "cell_type": "code",
   "execution_count": 47,
   "metadata": {},
   "outputs": [
    {
     "name": "stdout",
     "output_type": "stream",
     "text": [
      "58\n",
      "please remove the space around me\n",
      "33\n",
      "               please remove the space on my right\n",
      "50\n"
     ]
    }
   ],
   "source": [
    "s1 = '              please remove the space around me           '\n",
    "s2 = '               please remove the space on my right           '\n",
    "s3 = 'please add the same number of spaces on my left as on my right             '\n",
    "\n",
    "print(len(s1))\n",
    "s1new = s1.strip()\n",
    "print(s1new)\n",
    "print(len(s1new))\n",
    "\n",
    "\n",
    "s2new = s2.rstrip()\n",
    "print(s2new)\n",
    "print(len(s2new))\n",
    "\n"
   ]
  },
  {
   "cell_type": "code",
   "execution_count": 43,
   "metadata": {},
   "outputs": [
    {
     "name": "stdout",
     "output_type": "stream",
     "text": [
      "75\n",
      "please add the same number of spaces on my left as on my right\n",
      "62\n",
      "13\n",
      "             please add the same number of spaces on my left as on my right             \n",
      "88\n"
     ]
    }
   ],
   "source": [
    "s3 = 'please add the same number of spaces on my left as on my right             '\n",
    "print (len(s3))\n",
    "s4 = s3.strip()\n",
    "print(s4)\n",
    "s4_length = len(s4)\n",
    "print (s4_length)\n",
    "s5 = len(s3)-len(s4)\n",
    "print(s5)\n",
    "s3_new_length = len(s4) + s5*2\n",
    "s3_new = s4.center(s3_new_length,)\n",
    "print(s3_new)\n",
    "print(len(s3_new))"
   ]
  },
  {
   "cell_type": "code",
   "execution_count": 55,
   "metadata": {},
   "outputs": [
    {
     "name": "stdout",
     "output_type": "stream",
     "text": [
      "58\n",
      "61\n",
      "              please remove the space around me                          please remove the space on my right           \n",
      "119\n"
     ]
    }
   ],
   "source": [
    "# g) combine strings s1 and s2\n",
    "    # do it with and without using built-in string methods\n",
    "s1 = '              please remove the space around me           '\n",
    "s2 = '               please remove the space on my right           '\n",
    "\n",
    "\n",
    "print(len(s1))\n",
    "print(len(s2))\n",
    "s12 = s1 + s2\n",
    "print(s12)\n",
    "print(len(s12))\n",
    "  \n",
    "\n",
    "    \n",
    "    "
   ]
  },
  {
   "cell_type": "code",
   "execution_count": 59,
   "metadata": {},
   "outputs": [
    {
     "name": "stdout",
     "output_type": "stream",
     "text": [
      "25.423000000000002\n",
      "69.2013\n"
     ]
    }
   ],
   "source": [
    "# h) for a and b (below), compute the following:\n",
    "    # a + b\n",
    "    # a * b\n",
    "    \n",
    "a = '3.1' \n",
    "b = '22.323' \n",
    "\n",
    "a_plus_b = float(a) + float(b)\n",
    "print(a_plus_b)\n",
    "\n",
    "a_times_b = float(a) * float(b)\n",
    "print (a_times_b)\n",
    "\n",
    "\n"
   ]
  },
  {
   "cell_type": "code",
   "execution_count": 61,
   "metadata": {},
   "outputs": [
    {
     "data": {
      "text/plain": [
       "'the value of pi is: 3.0, 3.14, 3.14159'"
      ]
     },
     "execution_count": 61,
     "metadata": {},
     "output_type": "execute_result"
    }
   ],
   "source": [
    "# i) if your result is just one long string, try to cast a and b into integers and try again\n",
    "\n",
    "# j) replace the {}s below with the value of pi using string methods, for 0, 2 and 5 decimal places respectively\n",
    "\n",
    "import math \n",
    "pi = math.pi\n",
    "\n",
    "'the value of pi is: {}, {}, {}'.format(round(pi, 0), round(pi, 2), round(pi, 5))"
   ]
  },
  {
   "cell_type": "code",
   "execution_count": 62,
   "metadata": {},
   "outputs": [
    {
     "data": {
      "text/plain": [
       "'23\"\\x1c\\x13\\\\\\\\//'"
      ]
     },
     "execution_count": 62,
     "metadata": {},
     "output_type": "execute_result"
    }
   ],
   "source": [
    "# k) print the following string: '23\\42\\34\\23\\\\\\//'\n",
    "    # think about what is going on, google it and see why it doesn't work as expected\n",
    "    \n",
    "'23\\42\\34\\23\\\\\\//'\n",
    "    "
   ]
  },
  {
   "cell_type": "markdown",
   "metadata": {},
   "source": [
    "##### QUESTION 5\n",
    "###### a) load the example dataset '/resources/strings_example_1.txt'\n",
    "###### b) change the vowels back to normal characters\n",
    "###### c) locate the hidden substring (HINT: the it starts and ends with __)\n",
    "###### d) remove this substring and save the modified text in a new variable. Show that this is no longer the same as the original\n",
    "###### e) find the counts of each letter in the text such that:\n",
    "    # 'aaAabb dddDD hhcc' >>> [('d',5), ('a',4), ('b',2), ('c',2), ('h', 2)]\n",
    "###### f) make a separate list for alphabetical, numeric and special characters\n",
    "    # HINT: you may want to use sets to solve this"
   ]
  },
  {
   "cell_type": "code",
   "execution_count": 71,
   "metadata": {},
   "outputs": [],
   "source": [
    "import pandas as pd\n",
    "df = pd.read_csv(\"/Users/zinaidaperova/PyStarters/pystarters-master/week_1/assignments/resources/strings_example_1.txt\")"
   ]
  },
  {
   "cell_type": "code",
   "execution_count": 79,
   "metadata": {},
   "outputs": [],
   "source": [
    "text_file = open(\"/Users/zinaidaperova/PyStarters/pystarters-master/week_1/assignments/resources/strings_example_1.txt\", \"r+\")\n",
    "text_str = text_file.read()"
   ]
  },
  {
   "cell_type": "code",
   "execution_count": 100,
   "metadata": {},
   "outputs": [
    {
     "data": {
      "text/plain": [
       "'all work and no play makes Steve a very typical neuroscientist all work and no play makes Steve a very typical neuroscientist all work and no play makes Steve a very typical neuroscientist all work and no play makes Steve a very typical neuroscientist all work and no play makes Steve a very typical neuroscientist all work and no play makes Steve a very typical neuroscientist all work and no play makes Steve a very typical neuroscientist all work and no play makes Steve a very typical neuroscientist all work and no play makes Steve a very typical neuroscientist all work and no play makes Steve a very typical neuroscientist all work and no play makes Steve a very typical neuroscientist all work and no play makes Steve a very typical neuroscientist all work and no play makes Steve a very typical neuroscientist all work and no play makes Steve a very typical neuroscientist all work and no play makes Steve a very typical neuroscientist all work and no play makes Steve a very typical neuroscientist all work and no play makes Steve a very typical neuroscientist all work and no play makes Steve a very typical neuroscientist all work and no play makes Steve a very typical neuroscientist all work and no play makes Steve a very typical neuroscientist all work and no play makes Steve a very typical neuroscientist all work and no play makes Steve a very typical neuroscientist all work and no play makes Steve a very typical neuroscientist all work and no play makes Steve a very typical neuroscientist all work and no play makes Steve a very typical neuroscientist all work and no play makes Steve a very typical neuroscientist all work and no play makes Steve a very typical neuroscientist all work and no play makes Steve a very typical neuroscientist all work and no play makes Steve a very typical neuroscientist all work and no play makes Steve a very typical neuroscientist all work and no play makes Steve a very typical neuroscientist all work and no play makes Steve a very typical neuroscientist all work and no play makes Steve a very typical neuroscientist all work and no play makes Steve a very typical neuroscientist all work and no play makes Steve a very typical neuroscientist all work and no play makes Steve a very typical neuroscientist all work and no play makes Steve a very typical neuroscientist all work and no play makes Steve a very typical neuroscientist all work and no play makes Steve a very typical neuroscientist all work and no play makes Steve a very typical neuroscientist all work and no play makes Steve a very typical neuroscientist all work and no play makes Steve a very typical neuroscientist all work and no play makes Steve a very typical neuroscientist all work and no play makes Steve a very typical neuroscientist all work and no play makes Steve a very typical neuroscientist all work and no play makes Steve a very typical neuroscientist all work and no play makes Steve a very typical neuroscientist all work and no play makes Steve a very typical neuroscientist all work and no play makes Steve a very typical neuroscientist all work and no play makes Steve a very typical neuroscientist all work and no play makes Steve a very typical neuroscientist all work and no play makes Steve a very typical neuroscientist all work and no play makes Steve a very typical neuroscientist all work and no play makes Steve a very typical neuroscientist all work and no play makes Steve a very typical neuroscientist all work and no play makes Steve a very typical neuroscientist all work and no play makes Steve a very typical neuroscientist all work and no play makes Steve a very typical neuroscientist all work and no play makes Steve a very typical neuroscientist all work and no play makes Steve a very typical neuroscientist all work and no play makes Steve a very typical neuroscientist all work and no play makes Steve a very typical neuroscientist all work and no play makes Steve a very typical neuroscientist all work and no play makes Steve a very typical neuroscientist all work and no play makes Steve a very typical neuroscientist all work and no play makes Steve a very typical neuroscientist all work and no play makes Steve a very typical neuroscientist all work and no play makes Steve a very typical neuroscientist all work and no play makes Steve a very typical neuroscientist all work and no play makes Steve a very typical neuroscientist all work and no play makes Steve a very typical neuroscientist all work and no play makes Steve a very typical neuroscientist all work and no play makes Steve a very typical neuroscientist all work and no play makes Steve a very typical neuroscientist all work and no play makes Steve a very typical neuroscientist all work and no play makes Steve a very typical neuroscientist all work and no play makes Steve a very typical neuroscientist all work and no play makes Steve a very typical neuroscientist all work and no play makes Steve a very typical neuroscientist all work and no play makes Steve a very typical neuroscientist all work and no play makes Steve a very typical neuroscientist all work and no play makes Steve a very typical neuroscientist all work and no play makes Steve a very typical neuroscientist all work and no play makes Steve a very typical neuroscientist all work and no play makes Steve a very typical neuroscientist all work and no play makes Steve a very typical neuroscientist all work and no play makes Steve a very typical neuroscientist all work and no play makes Steve a very typical neuroscientist all work and no play makes Steve a very typical neuroscientist all work and no play makes Steve a very typical neuroscientist all work and no play makes Steve a very typical neuroscientist all work and no play makes Steve a very typical neuroscientist all work and no play makes Steve a very typical neuroscientist all work and no play makes Steve a very typical neuroscientist all work and no play makes Steve a very typical neuroscientist all work and no play makes Steve a very typical neuroscientist all work and no play makes Steve a very typical neuroscientist all work and no play makes Steve a very typical neuroscientist all work and no play makes Steve a very typical neuroscientist all work and no play makes Steve a very typical neuroscientist all work and no play makes Steve a very typical neuroscientist all work and no play makes Steve a very typical neuroscientist all work and no play makes Steve a very typical neuroscientist all work and no play makes Steve a very typical neuroscientist all work and no play makes Steve a very typical neuroscientist all work and no play makes Steve a very typical neuroscientist all work and no play makes Steve a very typical neuroscientist all work and no play makes Steve a very typical neuroscientist all work and no play makes Steve a very typical neuroscientist all work and no play makes Steve a very typical neuroscientist all work and no play makes Steve a very typical neuroscientist all work and no play makes Steve a very typical neuroscientist all work and no play makes Steve a very typical neuroscientist all work and no play makes Steve a very typical neuroscientist all work and no play makes Steve a very typical neuroscientist all work and no play makes Steve a very typical neuroscientist all work and no play makes Steve a very typical neuroscientist all work and no play makes Steve a very typical neuroscientist all work and no play makes Steve a very typical neuroscientist all work and no play makes Steve a very typical neuroscientist all work and no play makes Steve a very typical neuroscientist all work and no play makes Steve a very typical neuroscientist all work and no play makes Steve a very typical neuroscientist all work and no play makes Steve a very typical neuroscientist all work and no play makes Steve a very typical neuroscientist all work and no play makes Steve a very typical neuroscientist all work and no play makes Steve a very typical neuroscientist all work and no play makes Steve a very typical neuroscientist all work and no play makes Steve a very typical neuroscientist all work and no play makes Steve a very typical neuroscientist all work and no play makes Steve a very typical neuroscientist all work and no play makes Steve a very typical neuroscientist all work and no play makes Steve a very typical neuroscientist all work and no play makes Steve a very typical neuroscientist all work and no play makes Steve a very typical neuroscientist all work and no play makes Steve a very typical neuroscientist all work and no play makes Steve a very typical neuroscientist all work and no play makes Steve a very typical neuroscientist all work and no play makes Steve a very typical neuroscientist all work and no play makes Steve a very typical neuroscientist all work and no play makes Steve a very typical neuroscientist all work and no play makes Steve a very typical neuroscientist all work and no play makes Steve a very typical neuroscientist all work and no play makes Steve a very typical neuroscientist all work and no play makes Steve a very typical neuroscientist all work and no play makes Steve a very typical neuroscientist all work and no play makes Steve a very typical neuroscientist all work and no play makes Steve a very typical neuroscientist all work and no play makes Steve a very typical neuroscientist all work and no play makes Steve a very typical neuroscientist all work and no play makes Steve a very typical neuroscientist all work and no play makes Steve a very typical neuroscientist all work and no play makes Steve a very typical neuroscientist all work and no play makes Steve a very typical neuroscientist all work and no play makes Steve a very typical neuroscientist all work and no play makes Steve a very typical neuroscientist all work and no play makes Steve a very typical neuroscientist all work and no play makes Steve a very typical neuroscientist all work and no play makes Steve a very typical neuroscientist all work and no play makes Steve a very typical neuroscientist all work and no play makes Steve a very typical neuroscientist all work and no play makes Steve a very typical neuroscientist all work and no play makes Steve a very typical neuroscientist all work and no play makes Steve a very typical neuroscientist all work and no play makes Steve a very typical neuroscientist all work and no play makes Steve a very typical neuroscientist all work and no play makes Steve a very typical neuroscientist all work and no play makes Steve a very typical neuroscientist all work and no play makes Steve a very typical neuroscientist all work and no play makes Steve a very typical neuroscientist all work and no play makes Steve a very typical neuroscientist all work and no play makes Steve a very typical neuroscientist all work and no play makes Steve a very typical neuroscientist all work and no play makes Steve a very typical neuroscientist all work and no play makes Steve a very typical neuroscientist all work and no play makes Steve a very typical neuroscientist all work and no play makes Steve a very typical neuroscientist all work and no play makes Steve a very typical neuroscientist all work and no play makes Steve a very typical neuroscientist all work and no play makes Steve a very typical neuroscientist all work and no play makes Steve a very typical neuroscientist all work and no play makes Steve a very typical neuroscientist all work and no play makes Steve a very typical neuroscientist all work and no play makes Steve a very typical neuroscientist all work and no play makes Steve a very typical neuroscientist all work and no play makes Steve a very typical neuroscientist all work and no play makes Steve a very typical neuroscientist all work and no play makes Steve a very typical neuroscientist all work and no play makes Steve a very typical neuroscientist all work and no play makes Steve a very typical neuroscientist all work and no play makes Steve a very typical neuroscientist all work and no play makes Steve a very typical neuroscientist all work and no play makes Steve a very typical neuroscientist all work and no play makes Steve a very typical neuroscientist all work and no play makes Steve a very typical neuroscientist all work and no play makes Steve a very typical neuroscientist all work and no play makes Steve a very typical neuroscientist all work and no play makes Steve a very typical neuroscientist all work and no play makes Steve a very typical neuroscientist all work and no play makes Steve a very typical neuroscientist all work and no play makes Steve a very typical neuroscientist all work and no play makes Steve a very typical neuroscientist all work and no play makes Steve a very typical neuroscientist all work and no play makes Steve a very typical neuroscientist all work and no play makes Steve a very typical neuroscientist all work and no play makes Steve a very typical neuroscientist all work and no play makes Steve a very typical neuroscientist all work and no play makes Steve a very typical neuroscientist all work and no play makes Steve a very typical neuroscientist all work and no play makes Steve a very typical neuroscientist all work and no play makes Steve a very typical neuroscientist all work and no play makes Steve a very typical neuroscientist all work and no play makes Steve a very typical neuroscientist all work and no play makes Steve a very typical neuroscientist all work and no play makes Steve a very typical neuroscientist all work and no play makes Steve a very typical neuroscientist all work and no play makes Steve a very typical neuroscientist all work and no play makes Steve a very typical neuroscientist all work and no play makes Steve a very typical neuroscientist all work and no play makes Steve a very typical neuroscientist all work and no play makes Steve a very typical neuroscientist all work and no play makes Steve a very typical neuroscientist all work and no play makes Steve a very typical neuroscientist all work and no play makes Steve a very typical neuroscientist all work and no play makes Steve a very typical neuroscientist all work and no play makes Steve a very typical neuroscientist all work and no play makes Steve a very typical neuroscientist all work and no play makes Steve a very typical neuroscientist all work and no play makes Steve a very typical neuroscientist all work and no play makes Steve a very typical neuroscientist all work and no play makes Steve a very typical neuroscientist all work and no play makes Steve a very typical neuroscientist all work and no play makes Steve a very typical neuroscientist all work and no play makes Steve a very typical neuroscientist all work and no play makes Steve a very typical neuroscientist all work and no play makes Steve a very typical neuroscientist all work and no play makes Steve a very typical neuroscientist all work and no play makes Steve a very typical neuroscientist all work and no play makes Steve a very typical neuroscientist all work and no play makes Steve a very typical neuroscientist all work and no play makes Steve a very typical neuroscientist all work and no play makes Steve a very typical neuroscientist all work and no play makes Steve a very typical neuroscientist all work and no play makes Steve a very typical neuroscientist all work and no play makes Steve a very typical neuroscientist all work and no play makes Steve a very typical neuroscientist all work and no play makes Steve a very typical neuroscientist all work and no play makes Steve a very typical neuroscientist all work and no play makes Steve a very typical neuroscientist all work and no play makes Steve a very typical neuroscientist all work and no play makes Steve a very typical neuroscientist all work and no play makes Steve a very typical neuroscientist all work and no play makes Steve a very typical neuroscientist all work and no play makes Steve a very typical neuroscientist all work and no play makes Steve a very typical neuroscientist all work and no play makes Steve a very typical neuroscientist all work and no play makes Steve a very typical neuroscientist all work and no play makes Steve a very typical neuroscientist all work and no play makes Steve a very typical neuroscientist all work and no play makes Steve a very typical neuroscientist all work and no play makes Steve a very typical neuroscientist all work and no play makes Steve a very typical neuroscientist all work and no play makes Steve a very typical neuroscientist all work and no play makes Steve a very typical neuroscientist all work and no play makes Steve a very typical neuroscientist all work and no play makes Steve a very typical neuroscientist all work and no play makes Steve a very typical neuroscientist all work and no play makes Steve a very typical neuroscientist all work and no play makes Steve a very typical neuroscientist all work and no play makes Steve a very typical neuroscientist all work and no play makes Steve a very typical neuroscientist all work and no play makes Steve a very typical neuroscientist all work and no play makes Steve a very typical neuroscientist all work and no play makes Steve a very typical neuroscientist all work and no play makes Steve a very typical neuroscientist all work and no play makes Steve a very typical neuroscientist all work and no play makes Steve a very typical neuroscientist all work and no play makes Steve a very typical neuroscientist all work and no play makes Steve a very typical neuroscientist all work and no play makes Steve a very typical neuroscientist all work and no play makes Steve a very typical neuroscientist all work and no play makes Steve a very typical neuroscientist all work and no play makes Steve a very typical neuroscientist all work and no play makes Steve a very typical neuroscientist all work and no play makes Steve a very typical neuroscientist all work and no play makes Steve a very typical neuroscientist all work and no play makes Steve a very typical neuroscientist all work and no play makes Steve a very typical neuroscientist all work and no play makes Steve a very typical neuroscientist all work and no play makes Steve a very typical neuroscientist all work and no play makes Steve a very typical neuroscientist all work and no play makes Steve a very typical neuroscientist all work and no play makes Steve a very typical neuroscientist all work and no play makes Steve a very typical neuroscientist all work and no play makes Steve a very typical neuroscientist all work and no play makes Steve a very typical neuroscientist all work and no play makes Steve a very typical neuroscientist all work and no play makes Steve a very typical neuroscientist all work and no play makes Steve a very typical neuroscientist all work and no play makes Steve a very typical neuroscientist all work and no play makes Steve a very typical neuroscientist all work and no play makes Steve a very typical neuroscientist all work and no play makes Steve a very typical neuroscientist all work and no play makes Steve a very typical neuroscientist all work and no play makes Steve a very typical neuroscientist all work and no play makes Steve a very typical neuroscientist all work and no play makes Steve a very typical neuroscientist all work and no play makes Steve a very typical neuroscientist all work and no play makes Steve a very typical neuroscientist all work and no play makes Steve a very typical neuroscientist all work and no play makes Steve a very typical neuroscientist all work and no play makes Steve a very typical neuroscientist all work and no play makes Steve a very typical neuroscientist all work and no play makes Steve a very typical neuroscientist all work and no play makes Steve a very typical neuroscientist all work and no play makes Steve a very typical neuroscientist all work and no play makes Steve a very typical neuroscientist all work and no play makes Steve a very typical neuroscientist all work and no play makes Steve a very typical neuroscientist all work and no play makes Steve a very typical neuroscientist all work and no play makes Steve a very typical neuroscientist all work and no play makes Steve a very typical neuroscientist all work and no play makes Steve a very typical neuroscientist all work and no play makes Steve a very typical neuroscientist all work and no play makes Steve a very typical neuroscientist all work and no play makes Steve a very typical neuroscientist all work and no play makes Steve a very typical neuroscientist all work and no play makes Steve a very typical neuroscientist all work and no play makes Steve a very typical neuroscientist all work and no play makes Steve a very typical neuroscientist all work and no play makes Steve a very typical neuroscientist all work and no play makes Steve a very typical neuroscientist all work and no play makes Steve a very typical neuroscientist all work and no play makes Steve a very typical neuroscientist all work and no play makes Steve a very typical neuroscientist all work and no play makes Steve a very typical neuroscientist all work and no play makes Steve a very typical neuroscientist all work and no play makes Steve a very typical neuroscientist all work and no play makes Steve a very typical neuroscientist all work and no play makes Steve a very typical neuroscientist all work and no play makes Steve a very typical neuroscientist all work and no play makes Steve a very typical neuroscientist all work and no play makes Steve a very typical neuroscientist all work and no play makes Steve a very typical neuroscientist all work and no play makes Steve a very typical neuroscientist all work and no play makes Steve a very typical neuroscientist all work and no play makes Steve a very typical neuroscientist all work and no play makes Steve a very typical neuroscientist all work and no play makes Steve a very typical neuroscientist all work and no play makes Steve a very typical neuroscientist all work and no play makes Steve a very typical neuroscientist all work and no play makes Steve a very typical neuroscientist all work and no play makes Steve a very typical neuroscientist all work and no play makes Steve a very typical neuroscientist all work and no play makes Steve a very typical neuroscientist all work and no play makes Steve a very typical neuroscientist all work and no play makes Steve a very typical neuroscientist all work and no play makes Steve a very typical neuroscientist all work and no play makes Steve a very typical neuroscientist all work and no play makes Steve a very typical neuroscientist all work and no play makes Steve a very typical neuroscientist all work and no play makes Steve a very typical neuroscientist all work and no play makes Steve a very typical neuroscientist all work and no play makes Steve a very typical neuroscientist all work and no play makes Steve a very typical neuroscientist all work and no play makes Steve a very typical neuroscientist all work and no play makes Steve a very typical neuroscientist all work and no play makes Steve a very typical neuroscientist all work and no play makes Steve a very typical neuroscientist all work and no play makes Steve a very typical neuroscientist all work and no play makes Steve a very typical neuroscientist all work and no play makes Steve a very typical neuroscientist all work and no play makes Steve a very typical neuroscientist all work and no play makes Steve a very typical neuroscientist all work and no play makes Steve a very typical neuroscientist all work and no play makes Steve a very typical neuroscientist all work and no play makes Steve a very typical neuroscientist all work and no play makes Steve a very typical neuroscientist all work and no play makes Steve a very typical neuroscientist all work and no play makes Steve a very typical neuroscientist all work and no play makes Steve a very typical neuroscientist all work and no play__aha! made you look__ makes Steve a very typical neuroscientist all work and no play makes Steve a very typical neuroscientist all work and no play makes Steve a very typical neuroscientist all work and no play makes Steve a very typical neuroscientist all work and no play makes Steve a very typical neuroscientist all work and no play makes Steve a very typical neuroscientist all work and no play makes Steve a very typical neuroscientist all work and no play makes Steve a very typical neuroscientist all work and no play makes Steve a very typical neuroscientist all work and no play makes Steve a very typical neuroscientist all work and no play makes Steve a very typical neuroscientist all work and no play makes Steve a very typical neuroscientist all work and no play makes Steve a very typical neuroscientist all work and no play makes Steve a very typical neuroscientist all work and no play makes Steve a very typical neuroscientist all work and no play makes Steve a very typical neuroscientist all work and no play makes Steve a very typical neuroscientist all work and no play makes Steve a very typical neuroscientist all work and no play makes Steve a very typical neuroscientist all work and no play makes Steve a very typical neuroscientist all work and no play makes Steve a very typical neuroscientist all work and no play makes Steve a very typical neuroscientist all work and no play makes Steve a very typical neuroscientist all work and no play makes Steve a very typical neuroscientist all work and no play makes Steve a very typical neuroscientist all work and no play makes Steve a very typical neuroscientist all work and no play makes Steve a very typical neuroscientist all work and no play makes Steve a very typical neuroscientist all work and no play makes Steve a very typical neuroscientist all work and no play makes Steve a very typical neuroscientist all work and no play makes Steve a very typical neuroscientist all work and no play makes Steve a very typical neuroscientist all work and no play makes Steve a very typical neuroscientist all work and no play makes Steve a very typical neuroscientist all work and no play makes Steve a very typical neuroscientist all work and no play makes Steve a very typical neuroscientist all work and no play makes Steve a very typical neuroscientist all work and no play makes Steve a very typical neuroscientist all work and no play makes Steve a very typical neuroscientist all work and no play makes Steve a very typical neuroscientist all work and no play makes Steve a very typical neuroscientist all work and no play makes Steve a very typical neuroscientist all work and no play makes Steve a very typical neuroscientist all work and no play makes Steve a very typical neuroscientist all work and no play makes Steve a very typical neuroscientist all work and no play makes Steve a very typical neuroscientist all work and no play makes Steve a very typical neuroscientist all work and no play makes Steve a very typical neuroscientist all work and no play makes Steve a very typical neuroscientist all work and no play makes Steve a very typical neuroscientist all work and no play makes Steve a very typical neuroscientist all work and no play makes Steve a very typical neuroscientist all work and no play makes Steve a very typical neuroscientist all work and no play makes Steve a very typical neuroscientist all work and no play makes Steve a very typical neuroscientist all work and no play makes Steve a very typical neuroscientist all work and no play makes Steve a very typical neuroscientist all work and no play makes Steve a very typical neuroscientist all work and no play makes Steve a very typical neuroscientist all work and no play makes Steve a very typical neuroscientist all work and no play makes Steve a very typical neuroscientist all work and no play makes Steve a very typical neuroscientist all work and no play makes Steve a very typical neuroscientist all work and no play makes Steve a very typical neuroscientist all work and no play makes Steve a very typical neuroscientist all work and no play makes Steve a very typical neuroscientist all work and no play makes Steve a very typical neuroscientist all work and no play makes Steve a very typical neuroscientist all work and no play makes Steve a very typical neuroscientist all work and no play makes Steve a very typical neuroscientist all work and no play makes Steve a very typical neuroscientist all work and no play makes Steve a very typical neuroscientist all work and no play makes Steve a very typical neuroscientist all work and no play makes Steve a very typical neuroscientist all work and no play makes Steve a very typical neuroscientist all work and no play makes Steve a very typical neuroscientist all work and no play makes Steve a very typical neuroscientist all work and no play makes Steve a very typical neuroscientist all work and no play makes Steve a very typical neuroscientist all work and no play makes Steve a very typical neuroscientist all work and no play makes Steve a very typical neuroscientist all work and no play makes Steve a very typical neuroscientist all work and no play makes Steve a very typical neuroscientist all work and no play makes Steve a very typical neuroscientist all work and no play makes Steve a very typical neuroscientist all work and no play makes Steve a very typical neuroscientist all work and no play makes Steve a very typical neuroscientist all work and no play makes Steve a very typical neuroscientist all work and no play makes Steve a very typical neuroscientist all work and no play makes Steve a very typical neuroscientist all work and no play makes Steve a very typical neuroscientist all work and no play makes Steve a very typical neuroscientist all work and no play makes Steve a very typical neuroscientist all work and no play makes Steve a very typical neuroscientist all work and no play makes Steve a very typical neuroscientist all work and no play makes Steve a very typical neuroscientist all work and no play makes Steve a very typical neuroscientist all work and no play makes Steve a very typical neuroscientist all work and no play makes Steve a very typical neuroscientist all work and no play makes Steve a very typical neuroscientist all work and no play makes Steve a very typical neuroscientist all work and no play makes Steve a very typical neuroscientist all work and no play makes Steve a very typical neuroscientist all work and no play makes Steve a very typical neuroscientist all work and no play makes Steve a very typical neuroscientist all work and no play makes Steve a very typical neuroscientist all work and no play makes Steve a very typical neuroscientist all work and no play makes Steve a very typical neuroscientist all work and no play makes Steve a very typical neuroscientist all work and no play makes Steve a very typical neuroscientist all work and no play makes Steve a very typical neuroscientist all work and no play makes Steve a very typical neuroscientist all work and no play makes Steve a very typical neuroscientist all work and no play makes Steve a very typical neuroscientist all work and no play makes Steve a very typical neuroscientist all work and no play makes Steve a very typical neuroscientist all work and no play makes Steve a very typical neuroscientist all work and no play makes Steve a very typical neuroscientist all work and no play makes Steve a very typical neuroscientist all work and no play makes Steve a very typical neuroscientist all work and no play makes Steve a very typical neuroscientist all work and no play makes Steve a very typical neuroscientist all work and no play makes Steve a very typical neuroscientist all work and no play makes Steve a very typical neuroscientist all work and no play makes Steve a very typical neuroscientist all work and no play makes Steve a very typical neuroscientist all work and no play makes Steve a very typical neuroscientist all work and no play makes Steve a very typical neuroscientist all work and no play makes Steve a very typical neuroscientist all work and no play makes Steve a very typical neuroscientist all work and no play makes Steve a very typical neuroscientist all work and no play makes Steve a very typical neuroscientist all work and no play makes Steve a very typical neuroscientist all work and no play makes Steve a very typical neuroscientist all work and no play makes Steve a very typical neuroscientist all work and no play makes Steve a very typical neuroscientist all work and no play makes Steve a very typical neuroscientist all work and no play makes Steve a very typical neuroscientist all work and no play makes Steve a very typical neuroscientist all work and no play makes Steve a very typical neuroscientist all work and no play makes Steve a very typical neuroscientist all work and no play makes Steve a very typical neuroscientist all work and no play makes Steve a very typical neuroscientist all work and no play makes Steve a very typical neuroscientist all work and no play makes Steve a very typical neuroscientist all work and no play makes Steve a very typical neuroscientist all work and no play makes Steve a very typical neuroscientist all work and no play makes Steve a very typical neuroscientist all work and no play makes Steve a very typical neuroscientist all work and no play makes Steve a very typical neuroscientist all work and no play makes Steve a very typical neuroscientist all work and no play makes Steve a very typical neuroscientist all work and no play makes Steve a very typical neuroscientist all work and no play makes Steve a very typical neuroscientist all work and no play makes Steve a very typical neuroscientist all work and no play makes Steve a very typical neuroscientist all work and no play makes Steve a very typical neuroscientist all work and no play makes Steve a very typical neuroscientist all work and no play makes Steve a very typical neuroscientist all work and no play makes Steve a very typical neuroscientist all work and no play makes Steve a very typical neuroscientist all work and no play makes Steve a very typical neuroscientist all work and no play makes Steve a very typical neuroscientist all work and no play makes Steve a very typical neuroscientist all work and no play makes Steve a very typical neuroscientist all work and no play makes Steve a very typical neuroscientist all work and no play makes Steve a very typical neuroscientist all work and no play makes Steve a very typical neuroscientist all work and no play makes Steve a very typical neuroscientist all work and no play makes Steve a very typical neuroscientist all work and no play makes Steve a very typical neuroscientist all work and no play makes Steve a very typical neuroscientist all work and no play makes Steve a very typical neuroscientist all work and no play makes Steve a very typical neuroscientist all work and no play makes Steve a very typical neuroscientist all work and no play makes Steve a very typical neuroscientist all work and no play makes Steve a very typical neuroscientist all work and no play makes Steve a very typical neuroscientist all work and no play makes Steve a very typical neuroscientist all work and no play makes Steve a very typical neuroscientist all work and no play makes Steve a very typical neuroscientist all work and no play makes Steve a very typical neuroscientist all work and no play makes Steve a very typical neuroscientist all work and no play makes Steve a very typical neuroscientist all work and no play makes Steve a very typical neuroscientist all work and no play makes Steve a very typical neuroscientist all work and no play makes Steve a very typical neuroscientist all work and no play makes Steve a very typical neuroscientist all work and no play makes Steve a very typical neuroscientist all work and no play makes Steve a very typical neuroscientist all work and no play makes Steve a very typical neuroscientist all work and no play makes Steve a very typical neuroscientist all work and no play makes Steve a very typical neuroscientist all work and no play makes Steve a very typical neuroscientist all work and no play makes Steve a very typical neuroscientist all work and no play makes Steve a very typical neuroscientist all work and no play makes Steve a very typical neuroscientist all work and no play makes Steve a very typical neuroscientist all work and no play makes Steve a very typical neuroscientist all work and no play makes Steve a very typical neuroscientist all work and no play makes Steve a very typical neuroscientist all work and no play makes Steve a very typical neuroscientist all work and no play makes Steve a very typical neuroscientist all work and no play makes Steve a very typical neuroscientist all work and no play makes Steve a very typical neuroscientist all work and no play makes Steve a very typical neuroscientist all work and no play makes Steve a very typical neuroscientist all work and no play makes Steve a very typical neuroscientist all work and no play makes Steve a very typical neuroscientist all work and no play makes Steve a very typical neuroscientist all work and no play makes Steve a very typical neuroscientist all work and no play makes Steve a very typical neuroscientist all work and no play makes Steve a very typical neuroscientist all work and no play makes Steve a very typical neuroscientist all work and no play makes Steve a very typical neuroscientist all work and no play makes Steve a very typical neuroscientist all work and no play makes Steve a very typical neuroscientist all work and no play makes Steve a very typical neuroscientist all work and no play makes Steve a very typical neuroscientist all work and no play makes Steve a very typical neuroscientist all work and no play makes Steve a very typical neuroscientist all work and no play makes Steve a very typical neuroscientist all work and no play makes Steve a very typical neuroscientist all work and no play makes Steve a very typical neuroscientist all work and no play makes Steve a very typical neuroscientist all work and no play makes Steve a very typical neuroscientist all work and no play makes Steve a very typical neuroscientist all work and no play makes Steve a very typical neuroscientist all work and no play makes Steve a very typical neuroscientist all work and no play makes Steve a very typical neuroscientist all work and no play makes Steve a very typical neuroscientist all work and no play makes Steve a very typical neuroscientist all work and no play makes Steve a very typical neuroscientist all work and no play makes Steve a very typical neuroscientist all work and no play makes Steve a very typical neuroscientist all work and no play makes Steve a very typical neuroscientist all work and no play makes Steve a very typical neuroscientist all work and no play makes Steve a very typical neuroscientist all work and no play makes Steve a very typical neuroscientist all work and no play makes Steve a very typical neuroscientist all work and no play makes Steve a very typical neuroscientist all work and no play makes Steve a very typical neuroscientist all work and no play makes Steve a very typical neuroscientist all work and no play makes Steve a very typical neuroscientist all work and no play makes Steve a very typical neuroscientist all work and no play makes Steve a very typical neuroscientist all work and no play makes Steve a very typical neuroscientist all work and no play makes Steve a very typical neuroscientist all work and no play makes Steve a very typical neuroscientist all work and no play makes Steve a very typical neuroscientist all work and no play makes Steve a very typical neuroscientist all work and no play makes Steve a very typical neuroscientist all work and no play makes Steve a very typical neuroscientist all work and no play makes Steve a very typical neuroscientist all work and no play makes Steve a very typical neuroscientist all work and no play makes Steve a very typical neuroscientist all work and no play makes Steve a very typical neuroscientist all work and no play makes Steve a very typical neuroscientist all work and no play makes Steve a very typical neuroscientist all work and no play makes Steve a very typical neuroscientist all work and no play makes Steve a very typical neuroscientist all work and no play makes Steve a very typical neuroscientist all work and no play makes Steve a very typical neuroscientist all work and no play makes Steve a very typical neuroscientist all work and no play makes Steve a very typical neuroscientist all work and no play makes Steve a very typical neuroscientist all work and no play makes Steve a very typical neuroscientist all work and no play makes Steve a very typical neuroscientist all work and no play makes Steve a very typical neuroscientist all work and no play makes Steve a very typical neuroscientist all work and no play makes Steve a very typical neuroscientist all work and no play makes Steve a very typical neuroscientist all work and no play makes Steve a very typical neuroscientist all work and no play makes Steve a very typical neuroscientist all work and no play makes Steve a very typical neuroscientist all work and no play makes Steve a very typical neuroscientist all work and no play makes Steve a very typical neuroscientist all work and no play makes Steve a very typical neuroscientist all work and no play makes Steve a very typical neuroscientist all work and no play makes Steve a very typical neuroscientist all work and no play makes Steve a very typical neuroscientist all work and no play makes Steve a very typical neuroscientist all work and no play makes Steve a very typical neuroscientist all work and no play makes Steve a very typical neuroscientist all work and no play makes Steve a very typical neuroscientist all work and no play makes Steve a very typical neuroscientist all work and no play makes Steve a very typical neuroscientist all work and no play makes Steve a very typical neuroscientist all work and no play makes Steve a very typical neuroscientist all work and no play makes Steve a very typical neuroscientist all work and no play makes Steve a very typical neuroscientist all work and no play makes Steve a very typical neuroscientist all work and no play makes Steve a very typical neuroscientist all work and no play makes Steve a very typical neuroscientist all work and no play makes Steve a very typical neuroscientist all work and no play makes Steve a very typical neuroscientist all work and no play makes Steve a very typical neuroscientist all work and no play makes Steve a very typical neuroscientist all work and no play makes Steve a very typical neuroscientist all work and no play makes Steve a very typical neuroscientist all work and no play makes Steve a very typical neuroscientist all work and no play makes Steve a very typical neuroscientist all work and no play makes Steve a very typical neuroscientist all work and no play makes Steve a very typical neuroscientist all work and no play makes Steve a very typical neuroscientist all work and no play makes Steve a very typical neuroscientist all work and no play makes Steve a very typical neuroscientist all work and no play makes Steve a very typical neuroscientist all work and no play makes Steve a very typical neuroscientist all work and no play makes Steve a very typical neuroscientist all work and no play makes Steve a very typical neuroscientist all work and no play makes Steve a very typical neuroscientist all work and no play makes Steve a very typical neuroscientist all work and no play makes Steve a very typical neuroscientist all work and no play makes Steve a very typical neuroscientist all work and no play makes Steve a very typical neuroscientist all work and no play makes Steve a very typical neuroscientist all work and no play makes Steve a very typical neuroscientist all work and no play makes Steve a very typical neuroscientist all work and no play makes Steve a very typical neuroscientist all work and no play makes Steve a very typical neuroscientist all work and no play makes Steve a very typical neuroscientist all work and no play makes Steve a very typical neuroscientist all work and no play makes Steve a very typical neuroscientist all work and no play makes Steve a very typical neuroscientist all work and no play makes Steve a very typical neuroscientist all work and no play makes Steve a very typical neuroscientist all work and no play makes Steve a very typical neuroscientist all work and no play makes Steve a very typical neuroscientist all work and no play makes Steve a very typical neuroscientist all work and no play makes Steve a very typical neuroscientist all work and no play makes Steve a very typical neuroscientist all work and no play makes Steve a very typical neuroscientist all work and no play makes Steve a very typical neuroscientist all work and no play makes Steve a very typical neuroscientist all work and no play makes Steve a very typical neuroscientist all work and no play makes Steve a very typical neuroscientist all work and no play makes Steve a very typical neuroscientist all work and no play makes Steve a very typical neuroscientist all work and no play makes Steve a very typical neuroscientist all work and no play makes Steve a very typical neuroscientist all work and no play makes Steve a very typical neuroscientist all work and no play makes Steve a very typical neuroscientist all work and no play makes Steve a very typical neuroscientist all work and no play makes Steve a very typical neuroscientist all work and no play makes Steve a very typical neuroscientist all work and no play makes Steve a very typical neuroscientist all work and no play makes Steve a very typical neuroscientist all work and no play makes Steve a very typical neuroscientist all work and no play makes Steve a very typical neuroscientist all work and no play makes Steve a very typical neuroscientist all work and no play makes Steve a very typical neuroscientist all work and no play makes Steve a very typical neuroscientist all work and no play makes Steve a very typical neuroscientist all work and no play makes Steve a very typical neuroscientist all work and no play makes Steve a very typical neuroscientist all work and no play makes Steve a very typical neuroscientist all work and no play makes Steve a very typical neuroscientist all work and no play makes Steve a very typical neuroscientist all work and no play makes Steve a very typical neuroscientist all work and no play makes Steve a very typical neuroscientist all work and no play makes Steve a very typical neuroscientist all work and no play makes Steve a very typical neuroscientist all work and no play makes Steve a very typical neuroscientist all work and no play makes Steve a very typical neuroscientist all work and no play makes Steve a very typical neuroscientist all work and no play makes Steve a very typical neuroscientist all work and no play makes Steve a very typical neuroscientist all work and no play makes Steve a very typical neuroscientist all work and no play makes Steve a very typical neuroscientist all work and no play makes Steve a very typical neuroscientist all work and no play makes Steve a very typical neuroscientist all work and no play makes Steve a very typical neuroscientist all work and no play makes Steve a very typical neuroscientist all work and no play makes Steve a very typical neuroscientist all work and no play makes Steve a very typical neuroscientist all work and no play makes Steve a very typical neuroscientist all work and no play makes Steve a very typical neuroscientist all work and no play makes Steve a very typical neuroscientist all work and no play makes Steve a very typical neuroscientist all work and no play makes Steve a very typical neuroscientist all work and no play makes Steve a very typical neuroscientist all work and no play makes Steve a very typical neuroscientist all work and no play makes Steve a very typical neuroscientist all work and no play makes Steve a very typical neuroscientist all work and no play makes Steve a very typical neuroscientist all work and no play makes Steve a very typical neuroscientist all work and no play makes Steve a very typical neuroscientist all work and no play makes Steve a very typical neuroscientist all work and no play makes Steve a very typical neuroscientist all work and no play makes Steve a very typical neuroscientist all work and no play makes Steve a very typical neuroscientist all work and no play makes Steve a very typical neuroscientist all work and no play makes Steve a very typical neuroscientist all work and no play makes Steve a very typical neuroscientist all work and no play makes Steve a very typical neuroscientist all work and no play makes Steve a very typical neuroscientist all work and no play makes Steve a very typical neuroscientist all work and no play makes Steve a very typical neuroscientist all work and no play makes Steve a very typical neuroscientist all work and no play makes Steve a very typical neuroscientist all work and no play makes Steve a very typical neuroscientist all work and no play makes Steve a very typical neuroscientist all work and no play makes Steve a very typical neuroscientist all work and no play makes Steve a very typical neuroscientist all work and no play makes Steve a very typical neuroscientist all work and no play makes Steve a very typical neuroscientist all work and no play makes Steve a very typical neuroscientist all work and no play makes Steve a very typical neuroscientist all work and no play makes Steve a very typical neuroscientist all work and no play makes Steve a very typical neuroscientist all work and no play makes Steve a very typical neuroscientist all work and no play makes Steve a very typical neuroscientist all work and no play makes Steve a very typical neuroscientist all work and no play makes Steve a very typical neuroscientist all work and no play makes Steve a very typical neuroscientist all work and no play makes Steve a very typical neuroscientist all work and no play makes Steve a very typical neuroscientist all work and no play makes Steve a very typical neuroscientist all work and no play makes Steve a very typical neuroscientist all work and no play makes Steve a very typical neuroscientist all work and no play makes Steve a very typical neuroscientist all work and no play makes Steve a very typical neuroscientist all work and no play makes Steve a very typical neuroscientist all work and no play makes Steve a very typical neuroscientist all work and no play makes Steve a very typical neuroscientist all work and no play makes Steve a very typical neuroscientist all work and no play makes Steve a very typical neuroscientist all work and no play makes Steve a very typical neuroscientist all work and no play makes Steve a very typical neuroscientist all work and no play makes Steve a very typical neuroscientist all work and no play makes Steve a very typical neuroscientist all work and no play makes Steve a very typical neuroscientist all work and no play makes Steve a very typical neuroscientist all work and no play makes Steve a very typical neuroscientist all work and no play makes Steve a very typical neuroscientist all work and no play makes Steve a very typical neuroscientist all work and no play makes Steve a very typical neuroscientist all work and no play makes Steve a very typical neuroscientist all work and no play makes Steve a very typical neuroscientist all work and no play makes Steve a very typical neuroscientist all work and no play makes Steve a very typical neuroscientist all work and no play makes Steve a very typical neuroscientist all work and no play makes Steve a very typical neuroscientist all work and no play makes Steve a very typical neuroscientist all work and no play makes Steve a very typical neuroscientist all work and no play makes Steve a very typical neuroscientist all work and no play makes Steve a very typical neuroscientist all work and no play makes Steve a very typical neuroscientist all work and no play makes Steve a very typical neuroscientist all work and no play makes Steve a very typical neuroscientist all work and no play makes Steve a very typical neuroscientist all work and no play makes Steve a very typical neuroscientist all work and no play makes Steve a very typical neuroscientist all work and no play makes Steve a very typical neuroscientist all work and no play makes Steve a very typical neuroscientist all work and no play makes Steve a very typical neuroscientist all work and no play makes Steve a very typical neuroscientist all work and no play makes Steve a very typical neuroscientist all work and no play makes Steve a very typical neuroscientist all work and no play makes Steve a very typical neuroscientist all work and no play makes Steve a very typical neuroscientist all work and no play makes Steve a very typical neuroscientist all work and no play makes Steve a very typical neuroscientist all work and no play makes Steve a very typical neuroscientist all work and no play makes Steve a very typical neuroscientist all work and no play makes Steve a very typical neuroscientist all work and no play makes Steve a very typical neuroscientist all work and no play makes Steve a very typical neuroscientist all work and no play makes Steve a very typical neuroscientist all work and no play makes Steve a very typical neuroscientist all work and no play makes Steve a very typical neuroscientist all work and no play makes Steve a very typical neuroscientist all work and no play makes Steve a very typical neuroscientist all work and no play makes Steve a very typical neuroscientist all work and no play makes Steve a very typical neuroscientist all work and no play makes Steve a very typical neuroscientist all work and no play makes Steve a very typical neuroscientist all work and no play makes Steve a very typical neuroscientist all work and no play makes Steve a very typical neuroscientist all work and no play makes Steve a very typical neuroscientist all work and no play makes Steve a very typical neuroscientist all work and no play makes Steve a very typical neuroscientist all work and no play makes Steve a very typical neuroscientist all work and no play makes Steve a very typical neuroscientist all work and no play makes Steve a very typical neuroscientist all work and no play makes Steve a very typical neuroscientist all work and no play makes Steve a very typical neuroscientist all work and no play makes Steve a very typical neuroscientist all work and no play makes Steve a very typical neuroscientist all work and no play makes Steve a very typical neuroscientist all work and no play makes Steve a very typical neuroscientist all work and no play makes Steve a very typical neuroscientist all work and no play makes Steve a very typical neuroscientist all work and no play makes Steve a very typical neuroscientist all work and no play makes Steve a very typical neuroscientist all work and no play makes Steve a very typical neuroscientist all work and no play makes Steve a very typical neuroscientist all work and no play makes Steve a very typical neuroscientist all work and no play makes Steve a very typical neuroscientist all work and no play makes Steve a very typical neuroscientist all work and no play makes Steve a very typical neuroscientist all work and no play makes Steve a very typical neuroscientist all work and no play makes Steve a very typical neuroscientist all work and no play makes Steve a very typical neuroscientist all work and no play makes Steve a very typical neuroscientist all work and no play makes Steve a very typical neuroscientist all work and no play makes Steve a very typical neuroscientist all work and no play makes Steve a very typical neuroscientist all work and no play makes Steve a very typical neuroscientist all work and no play makes Steve a very typical neuroscientist all work and no play makes Steve a very typical neuroscientist all work and no play makes Steve a very typical neuroscientist all work and no play makes Steve a very typical neuroscientist all work and no play makes Steve a very typical neuroscientist all work and no play makes Steve a very typical neuroscientist all work and no play makes Steve a very typical neuroscientist all work and no play makes Steve a very typical neuroscientist all work and no play makes Steve a very typical neuroscientist all work and no play makes Steve a very typical neuroscientist all work and no play makes Steve a very typical neuroscientist all work and no play makes Steve a very typical neuroscientist all work and no play makes Steve a very typical neuroscientist all work and no play makes Steve a very typical neuroscientist all work and no play makes Steve a very typical neuroscientist all work and no play makes Steve a very typical neuroscientist all work and no play makes Steve a very typical neuroscientist all work and no play makes Steve a very typical neuroscientist all work and no play makes Steve a very typical neuroscientist all work and no play makes Steve a very typical neuroscientist all work and no play makes Steve a very typical neuroscientist all work and no play makes Steve a very typical neuroscientist all work and no play makes Steve a very typical neuroscientist all work and no play makes Steve a very typical neuroscientist all work and no play makes Steve a very typical neuroscientist all work and no play makes Steve a very typical neuroscientist all work and no play makes Steve a very typical neuroscientist all work and no play makes Steve a very typical neuroscientist all work and no play makes Steve a very typical neuroscientist all work and no play makes Steve a very typical neuroscientist all work and no play makes Steve a very typical neuroscientist all work and no play makes Steve a very typical neuroscientist all work and no play makes Steve a very typical neuroscientist all work and no play makes Steve a very typical neuroscientist all work and no play makes Steve a very typical neuroscientist all work and no play makes Steve a very typical neuroscientist all work and no play makes Steve a very typical neuroscientist all work and no play makes Steve a very typical neuroscientist all work and no play makes Steve a very typical neuroscientist all work and no play makes Steve a very typical neuroscientist all work and no play makes Steve a very typical neuroscientist all work and no play makes Steve a very typical neuroscientist all work and no play makes Steve a very typical neuroscientist all work and no play makes Steve a very typical neuroscientist all work and no play makes Steve a very typical neuroscientist all work and no play makes Steve a very typical neuroscientist all work and no play makes Steve a very typical neuroscientist all work and no play makes Steve a very typical neuroscientist all work and no play makes Steve a very typical neuroscientist all work and no play makes Steve a very typical neuroscientist all work and no play makes Steve a very typical neuroscientist all work and no play makes Steve a very typical neuroscientist all work and no play makes Steve a very typical neuroscientist all work and no play makes Steve a very typical neuroscientist all work and no play makes Steve a very typical neuroscientist all work and no play makes Steve a very typical neuroscientist all work and no play makes Steve a very typical neuroscientist all work and no play makes Steve a very typical neuroscientist all work and no play makes Steve a very typical neuroscientist all work and no play makes Steve a very typical neuroscientist all work and no play makes Steve a very typical neuroscientist all work and no play makes Steve a very typical neuroscientist all work and no play makes Steve a very typical neuroscientist all work and no play makes Steve a very typical neuroscientist all work and no play makes Steve a very typical neuroscientist all work and no play makes Steve a very typical neuroscientist all work and no play makes Steve a very typical neuroscientist all work and no play makes Steve a very typical neuroscientist all work and no play makes Steve a very typical neuroscientist all work and no play makes Steve a very typical neuroscientist all work and no play makes Steve a very typical neuroscientist all work and no play makes Steve a very typical neuroscientist all work and no play makes Steve a very typical neuroscientist all work and no play makes Steve a very typical neuroscientist all work and no play makes Steve a very typical neuroscientist all work and no play makes Steve a very typical neuroscientist all work and no play makes Steve a very typical neuroscientist all work and no play makes Steve a very typical neuroscientist all work and no play makes Steve a very typical neuroscientist all work and no play makes Steve a very typical neuroscientist all work and no play makes Steve a very typical neuroscientist all work and no play makes Steve a very typical neuroscientist all work and no play makes Steve a very typical neuroscientist all work and no play makes Steve a very typical neuroscientist all work and no play makes Steve a very typical neuroscientist all work and no play makes Steve a very typical neuroscientist all work and no play makes Steve a very typical neuroscientist all work and no play makes Steve a very typical neuroscientist all work and no play makes Steve a very typical neuroscientist all work and no play makes Steve a very typical neuroscientist all work and no play makes Steve a very typical neuroscientist all work and no play makes Steve a very typical neuroscientist all work and no play makes Steve a very typical neuroscientist all work and no play makes Steve a very typical neuroscientist all work and no play makes Steve a very typical neuroscientist all work and no play makes Steve a very typical neuroscientist all work and no play makes Steve a very typical neuroscientist all work and no play makes Steve a very typical neuroscientist all work and no play makes Steve a very typical neuroscientist all work and no play makes Steve a very typical neuroscientist all work and no play makes Steve a very typical neuroscientist all work and no play makes Steve a very typical neuroscientist all work and no play makes Steve a very typical neuroscientist all work and no play makes Steve a very typical neuroscientist all work and no play makes Steve a very typical neuroscientist all work and no play makes Steve a very typical neuroscientist all work and no play makes Steve a very typical neuroscientist all work and no play makes Steve a very typical neuroscientist all work and no play makes Steve a very typical neuroscientist '"
      ]
     },
     "execution_count": 100,
     "metadata": {},
     "output_type": "execute_result"
    }
   ],
   "source": [
    "type(text_str)\n",
    "text_str2 = text_str.replace(\"&\", \"a\")\n",
    "\n",
    "text_str3 = text_str2.replace(\"0\", \"o\")\n",
    "text_str4 = text_str3.replace(\"3\", \"e\")\n",
    "text_str5 = text_str4.replace(\"1\", \"i\")\n",
    "text_str5"
   ]
  },
  {
   "cell_type": "code",
   "execution_count": 104,
   "metadata": {},
   "outputs": [
    {
     "name": "stdout",
     "output_type": "stream",
     "text": [
      "24023\n",
      "63022\n",
      "24043\n"
     ]
    },
    {
     "data": {
      "text/plain": [
       "' '"
      ]
     },
     "execution_count": 104,
     "metadata": {},
     "output_type": "execute_result"
    }
   ],
   "source": [
    "hid_sub_start = text_str5.find(\"__\")\n",
    "print(hid_sub_start)\n",
    "print(len(text_str5))\n",
    "hid_sub_end = text_str5.find(\"__\", 24024, 63022)\n",
    "print(hid_sub_end)\n",
    "text_str5[24045]"
   ]
  },
  {
   "cell_type": "code",
   "execution_count": 107,
   "metadata": {},
   "outputs": [
    {
     "name": "stdout",
     "output_type": "stream",
     "text": [
      "24022\n",
      "38977\n",
      "62999\n"
     ]
    }
   ],
   "source": [
    "new_string1 = text_str5[:24022]\n",
    "new_string2 = text_str5[24045:]\n",
    "print(len(new_string1))\n",
    "print(len(new_string2))\n",
    "new_string = new_string1 + new_string2 \n",
    "print(len(new_string))\n",
    "\n",
    "\n",
    "\n",
    "#shorter way to do it:\n",
    "new_string2 = text_str5[:24022] + text_str5[24045:]\n",
    "print(len(new_string2))\n"
   ]
  },
  {
   "cell_type": "code",
   "execution_count": 110,
   "metadata": {},
   "outputs": [
    {
     "ename": "NameError",
     "evalue": "name 'text' is not defined",
     "output_type": "error",
     "traceback": [
      "\u001b[0;31m---------------------------------------------------------------------------\u001b[0m",
      "\u001b[0;31mNameError\u001b[0m                                 Traceback (most recent call last)",
      "\u001b[0;32m<ipython-input-110-7aa6c737b84a>\u001b[0m in \u001b[0;36m<module>\u001b[0;34m()\u001b[0m\n\u001b[1;32m      1\u001b[0m \u001b[0;31m# e) find the counts of each letter in the text such that:\u001b[0m\u001b[0;34m\u001b[0m\u001b[0;34m\u001b[0m\u001b[0m\n\u001b[1;32m      2\u001b[0m     \u001b[0;31m# 'aaAabb dddDD hhcc' >>> [('d',5), ('a',4), ('b',2), ('c',2), ('h', 2)]\u001b[0m\u001b[0;34m\u001b[0m\u001b[0;34m\u001b[0m\u001b[0m\n\u001b[0;32m----> 3\u001b[0;31m \u001b[0mprint\u001b[0m\u001b[0;34m(\u001b[0m\u001b[0mtext\u001b[0m\u001b[0;34m.\u001b[0m\u001b[0mcount\u001b[0m\u001b[0;34m(\u001b[0m\u001b[0mnew_string\u001b[0m\u001b[0;34m)\u001b[0m\u001b[0;34m)\u001b[0m\u001b[0;34m\u001b[0m\u001b[0m\n\u001b[0m\u001b[1;32m      4\u001b[0m \u001b[0;34m\u001b[0m\u001b[0m\n\u001b[1;32m      5\u001b[0m \u001b[0;31m# f) make a separate list for alphabetical, numeric and special characters\u001b[0m\u001b[0;34m\u001b[0m\u001b[0;34m\u001b[0m\u001b[0m\n",
      "\u001b[0;31mNameError\u001b[0m: name 'text' is not defined"
     ]
    }
   ],
   "source": [
    "# e) find the counts of each letter in the text such that:\n",
    "    # 'aaAabb dddDD hhcc' >>> [('d',5), ('a',4), ('b',2), ('c',2), ('h', 2)]\n",
    "print(text.count(new_string))\n",
    "\n",
    "# f) make a separate list for alphabetical, numeric and special characters\n",
    "    # HINT: you may want to use sets to solve this"
   ]
  },
  {
   "cell_type": "code",
   "execution_count": 118,
   "metadata": {},
   "outputs": [
    {
     "data": {
      "text/plain": [
       "{' ',\n",
       " 'S',\n",
       " 'a',\n",
       " 'c',\n",
       " 'd',\n",
       " 'e',\n",
       " 'i',\n",
       " 'k',\n",
       " 'l',\n",
       " 'm',\n",
       " 'n',\n",
       " 'o',\n",
       " 'p',\n",
       " 'r',\n",
       " 's',\n",
       " 't',\n",
       " 'u',\n",
       " 'v',\n",
       " 'w',\n",
       " 'y'}"
      ]
     },
     "execution_count": 118,
     "metadata": {},
     "output_type": "execute_result"
    }
   ],
   "source": [
    "new_set = set(new_string)\n",
    "new_set\n"
   ]
  },
  {
   "cell_type": "code",
   "execution_count": 117,
   "metadata": {},
   "outputs": [
    {
     "data": {
      "text/plain": [
       "(array([' ', 'S', 'a', 'c', 'd', 'e', 'i', 'k', 'l', 'm', 'n', 'o', 'p',\n",
       "        'r', 's', 't', 'u', 'v', 'w', 'y'], dtype='<U1'),\n",
       " array([ 3, 27,  0, 44, 11, 24, 43,  7,  1, 21, 10,  5, 16,  6, 25, 28, 50,\n",
       "        30,  4, 19]),\n",
       " array([11000,  1000,  6000,  2000,  1000,  6000,  3000,  2000,  4000,\n",
       "         1000,  4000,  3000,  2000,  3000,  3000,  4000,  1000,  2000,\n",
       "         1000,  2999]))"
      ]
     },
     "execution_count": 117,
     "metadata": {},
     "output_type": "execute_result"
    }
   ],
   "source": [
    "import numpy as np\n",
    "new_list = list(new_string)\n",
    "np.unique(new_list, return_index = True, return_counts = True)"
   ]
  },
  {
   "cell_type": "code",
   "execution_count": null,
   "metadata": {},
   "outputs": [],
   "source": []
  }
 ],
 "metadata": {
  "kernelspec": {
   "display_name": "Python 3",
   "language": "python",
   "name": "python3"
  },
  "language_info": {
   "codemirror_mode": {
    "name": "ipython",
    "version": 3
   },
   "file_extension": ".py",
   "mimetype": "text/x-python",
   "name": "python",
   "nbconvert_exporter": "python",
   "pygments_lexer": "ipython3",
   "version": "3.6.4"
  }
 },
 "nbformat": 4,
 "nbformat_minor": 2
}
